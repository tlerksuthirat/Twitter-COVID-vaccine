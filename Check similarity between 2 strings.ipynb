{
 "cells": [
  {
   "cell_type": "code",
   "execution_count": 4,
   "id": "e5ba52e5",
   "metadata": {},
   "outputs": [
    {
     "name": "stdout",
     "output_type": "stream",
     "text": [
      "Requirement already satisfied: fuzzywuzzy in e:\\anaconda\\lib\\site-packages (0.18.0)\n",
      "Note: you may need to restart the kernel to use updated packages.\n"
     ]
    }
   ],
   "source": [
    "pip install fuzzywuzzy"
   ]
  },
  {
   "cell_type": "code",
   "execution_count": 5,
   "id": "2b3136e4",
   "metadata": {
    "scrolled": true
   },
   "outputs": [
    {
     "name": "stdout",
     "output_type": "stream",
     "text": [
      "Requirement already satisfied: python-Levenshtein in e:\\anaconda\\lib\\site-packages (0.12.2)\n",
      "Requirement already satisfied: setuptools in e:\\anaconda\\lib\\site-packages (from python-Levenshtein) (52.0.0.post20210125)\n",
      "Note: you may need to restart the kernel to use updated packages.\n"
     ]
    }
   ],
   "source": [
    "pip install python-Levenshtein"
   ]
  },
  {
   "cell_type": "code",
   "execution_count": 11,
   "id": "a4ab0bb2",
   "metadata": {},
   "outputs": [
    {
     "name": "stdout",
     "output_type": "stream",
     "text": [
      "92\n"
     ]
    }
   ],
   "source": [
    "from fuzzywuzzy import fuzz\n",
    "Str1 = \"💉สรุปการให้บริการ #ฉีดวัคซีน  #วัคซีนโควิด19  ตั้งแต่ 28 ก.พ. - 15 พ.ค.64 = 2,242,150 โดส  #วัคซีนโควิด  #ฉีดวัคซีนหยุดเชื้อเพื่อชาติ #โควิด19เราต้องรอด  https://t.co/Kk1izSxoYN\"\n",
    "Str2 = \"💉สรุปการให้บริการ #ฉีดวัคซีน  #วัคซีนโควิด19  ตั้งแต่ 28 ก.พ. - 16 พ.ค.64 = 2,264,308 โดส  #วัคซีนโควิด  #ฉีดวัคซีนหยุดเชื้อเพื่อชาติ #โควิด19เราต้องรอด  https://t.co/hbvdh9A6h0\"\n",
    "Ratio = fuzz.ratio(Str1.lower(),Str2.lower())\n",
    "print(Ratio)"
   ]
  }
