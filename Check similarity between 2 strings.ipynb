{
 "cells": [
  {
   "cell_type": "code",
   "execution_count": 4,
   "id": "619a40e6",
   "metadata": {},
   "outputs": [
    {
     "name": "stdout",
     "output_type": "stream",
     "text": [
      "Requirement already satisfied: fuzzywuzzy in e:\\anaconda\\lib\\site-packages (0.18.0)\n",
      "Note: you may need to restart the kernel to use updated packages.\n"
     ]
    }
   ],
   "source": [
    "pip install fuzzywuzzy"
   ]
  },
  {
   "cell_type": "code",
   "execution_count": 5,
   "id": "b4cf8e4d",
   "metadata": {
    "scrolled": true
   },
   "outputs": [
    {
     "name": "stdout",
     "output_type": "stream",
     "text": [
      "Requirement already satisfied: python-Levenshtein in e:\\anaconda\\lib\\site-packages (0.12.2)\n",
      "Requirement already satisfied: setuptools in e:\\anaconda\\lib\\site-packages (from python-Levenshtein) (52.0.0.post20210125)\n",
      "Note: you may need to restart the kernel to use updated packages.\n"
     ]
    }
   ],
   "source": [
    "pip install python-Levenshtein"
   ]
  },
  {
   "cell_type": "code",
   "execution_count": 11,
   "id": "1f778014",
   "metadata": {},
   "outputs": [
    {
     "name": "stdout",
     "output_type": "stream",
     "text": [
      "92\n"
     ]
    }
   ],
   "source": [
    "from fuzzywuzzy import fuzz\n",
    "Str1 = \"💉สรุปการให้บริการ #ฉีดวัคซีน  #วัคซีนโควิด19  ตั้งแต่ 28 ก.พ. - 15 พ.ค.64 = 2,242,150 โดส  #วัคซีนโควิด  #ฉีดวัคซีนหยุดเชื้อเพื่อชาติ #โควิด19เราต้องรอด  https://t.co/Kk1izSxoYN\"\n",
    "Str2 = \"💉สรุปการให้บริการ #ฉีดวัคซีน  #วัคซีนโควิด19  ตั้งแต่ 28 ก.พ. - 16 พ.ค.64 = 2,264,308 โดส  #วัคซีนโควิด  #ฉีดวัคซีนหยุดเชื้อเพื่อชาติ #โควิด19เราต้องรอด  https://t.co/hbvdh9A6h0\"\n",
    "Ratio = fuzz.ratio(Str1.lower(),Str2.lower())\n",
    "print(Ratio)"
   ]
  }
 ],
 "metadata": {
  "kernelspec": {
   "display_name": "Python 3",
   "language": "python",
   "name": "python3"
  },
  "language_info": {
   "codemirror_mode": {
    "name": "ipython",
    "version": 3
   },
   "file_extension": ".py",
   "mimetype": "text/x-python",
   "name": "python",
   "nbconvert_exporter": "python",
   "pygments_lexer": "ipython3",
   "version": "3.8.5"
  }
 },
 "nbformat": 4,
 "nbformat_minor": 5
}
