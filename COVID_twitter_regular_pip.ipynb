{
  "nbformat": 4,
  "nbformat_minor": 0,
  "metadata": {
    "colab": {
      "name": "COVID-twitter-regular pip.ipynb",
      "provenance": [],
      "toc_visible": true,
      "authorship_tag": "ABX9TyOMYZz7ESgUAr1m/LuCDGOH",
      "include_colab_link": true
    },
    "kernelspec": {
      "name": "python3",
      "display_name": "Python 3"
    },
    "language_info": {
      "name": "python"
    }
  },
  "cells": [
    {
      "cell_type": "markdown",
      "metadata": {
        "id": "view-in-github",
        "colab_type": "text"
      },
      "source": [
        "<a href=\"https://colab.research.google.com/github/tlerksuthirat/Twitter-vaccine/blob/main/COVID_twitter_regular_pip.ipynb\" target=\"_parent\"><img src=\"https://colab.research.google.com/assets/colab-badge.svg\" alt=\"Open In Colab\"/></a>"
      ]
    },
    {
      "cell_type": "markdown",
      "metadata": {
        "id": "T5NxB8rwBcTH"
      },
      "source": [
        "#Social media impact on vaccination"
      ]
    },
    {
      "cell_type": "code",
      "metadata": {
        "id": "Xn8c1ZuMyaGV"
      },
      "source": [
        "pip install git+https://github.com/twintproject/twint.git@origin/master#egg=twint"
      ],
      "execution_count": null,
      "outputs": []
    },
    {
      "cell_type": "markdown",
      "metadata": {
        "id": "UtHftk6M-yK2"
      },
      "source": [
        "#Require restart runtime after install"
      ]
    },
    {
      "cell_type": "code",
      "metadata": {
        "id": "txU8fgtayiSu"
      },
      "source": [
        "import twint\n",
        "import nest_asyncio\n",
        "import pandas as pd\n",
        "nest_asyncio.apply()"
      ],
      "execution_count": null,
      "outputs": []
    },
    {
      "cell_type": "code",
      "metadata": {
        "id": "aRcAsc_9yj0d"
      },
      "source": [
        "c = twint.Config()\n",
        "\n",
        "c.Search = '#วัคซีน'\n",
        "c.Limit = 10\n",
        "c.Pandas = True\n",
        "twint.run.Search(c)"
      ],
      "execution_count": null,
      "outputs": []
    },
    {
      "cell_type": "markdown",
      "metadata": {
        "id": "JzmITtwf41RP"
      },
      "source": [
        "#Export data"
      ]
    },
    {
      "cell_type": "code",
      "metadata": {
        "id": "LLvo8CBr4zkG"
      },
      "source": [
        "df = twint.storage.panda.Tweets_df\n",
        "df.sample(5)\n",
        "df.to_csv('vaccine-twitter.csv', index=False)"
      ],
      "execution_count": null,
      "outputs": []
    }
  ]
}